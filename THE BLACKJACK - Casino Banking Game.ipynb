{
 "cells": [
  {
   "cell_type": "markdown",
   "id": "7781bcd4",
   "metadata": {},
   "source": [
    "## <ins>THE BLACKJACK</ins> (Casino Banking Game) :"
   ]
  },
  {
   "cell_type": "markdown",
   "id": "d62a76b3",
   "metadata": {},
   "source": [
    "### `GLOBAL VARIABLE`"
   ]
  },
  {
   "cell_type": "code",
   "execution_count": 1,
   "id": "6095c613",
   "metadata": {},
   "outputs": [],
   "source": [
    "import random\n",
    "\n",
    "suits = ('Hearts', 'Diamonds', 'Spades', 'Clubs')\n",
    "ranks = ('Two', 'Three', 'Four', 'Five', 'Six', 'Seven', 'Eight', 'Nine', 'Ten', 'Jack', 'Queen', 'King', 'Ace')\n",
    "values = {'Two':2, 'Three':3, 'Four':4, 'Five':5, 'Six':6, 'Seven':7, 'Eight':8, 'Nine':9, 'Ten':10, 'Jack':10, 'Queen':10, 'King':10, 'Ace':11}\n",
    "\n",
    "playing = True"
   ]
  },
  {
   "cell_type": "markdown",
   "id": "5e7e8ddf",
   "metadata": {},
   "source": [
    "### `CARD CLASS`"
   ]
  },
  {
   "cell_type": "markdown",
   "id": "3dcef345",
   "metadata": {},
   "source": [
    "A Card object only needs two attributes: suits and ranks. You might add an attribute for \"values\" - but here, I choose to handle value later when developing **`Hand class`**.</br>\n",
    "In addition to the Card's **`__init__`** method, consider adding a **`__str__`** method that. As when asked to print a Card, returns a string in the form *\"Two of Hearts\"*."
   ]
  },
  {
   "cell_type": "code",
   "execution_count": 2,
   "id": "4399a0d2",
   "metadata": {},
   "outputs": [],
   "source": [
    "class Card():\n",
    "    \n",
    "    def __init__(self,suit,rank):\n",
    "        self.suit = suit\n",
    "        self.rank = rank\n",
    "        \n",
    "    def __str__(self):\n",
    "        return self.rank + \" of \" + self.suit"
   ]
  },
  {
   "cell_type": "markdown",
   "id": "57bf53ca",
   "metadata": {},
   "source": [
    "### `DECK CLASS`"
   ]
  },
  {
   "cell_type": "markdown",
   "id": "9e4965ad",
   "metadata": {},
   "source": [
    "In Deck class all 52 Card objects have to be stored in a list, inside Deck **`__init__`** method, that can be shuffeled later. Sequences of suits and ranks must be iterated to build out each card.</br>\n",
    "In addition to an **`__init__`** method, also have to add methods to shuffle the deck, and to deal out cards during gameplay."
   ]
  },
  {
   "cell_type": "code",
   "execution_count": 3,
   "id": "437b0fc7",
   "metadata": {},
   "outputs": [],
   "source": [
    "class Deck():\n",
    "    \n",
    "    def __init__(self):\n",
    "        self.deck = []\n",
    "        for suit in suits:\n",
    "            for rank in ranks:\n",
    "                self.deck.append(Card(suit,rank))\n",
    "    \n",
    "    # This \"__str__\" method is only for printing the contents of deck\n",
    "    def __str__(self):\n",
    "        deck_comp = ''  \n",
    "        for card in self.deck:\n",
    "            deck_comp += '\\n '+card.__str__() \n",
    "        return 'The deck carries:' + deck_comp\n",
    "    \n",
    "    def shuffle(self):\n",
    "        random.shuffle(self.deck)\n",
    "        \n",
    "    def deal(self):\n",
    "        single_card = self.deck.pop()\n",
    "        return single_card"
   ]
  },
  {
   "cell_type": "markdown",
   "id": "9936c520",
   "metadata": {},
   "source": [
    "**Check :**</br>\n",
    "*This how the Deck looks like! :*"
   ]
  },
  {
   "cell_type": "code",
   "execution_count": 4,
   "id": "938f5718",
   "metadata": {},
   "outputs": [
    {
     "name": "stdout",
     "output_type": "stream",
     "text": [
      "The deck carries:\n",
      " Two of Hearts\n",
      " Three of Hearts\n",
      " Four of Hearts\n",
      " Five of Hearts\n",
      " Six of Hearts\n",
      " Seven of Hearts\n",
      " Eight of Hearts\n",
      " Nine of Hearts\n",
      " Ten of Hearts\n",
      " Jack of Hearts\n",
      " Queen of Hearts\n",
      " King of Hearts\n",
      " Ace of Hearts\n",
      " Two of Diamonds\n",
      " Three of Diamonds\n",
      " Four of Diamonds\n",
      " Five of Diamonds\n",
      " Six of Diamonds\n",
      " Seven of Diamonds\n",
      " Eight of Diamonds\n",
      " Nine of Diamonds\n",
      " Ten of Diamonds\n",
      " Jack of Diamonds\n",
      " Queen of Diamonds\n",
      " King of Diamonds\n",
      " Ace of Diamonds\n",
      " Two of Spades\n",
      " Three of Spades\n",
      " Four of Spades\n",
      " Five of Spades\n",
      " Six of Spades\n",
      " Seven of Spades\n",
      " Eight of Spades\n",
      " Nine of Spades\n",
      " Ten of Spades\n",
      " Jack of Spades\n",
      " Queen of Spades\n",
      " King of Spades\n",
      " Ace of Spades\n",
      " Two of Clubs\n",
      " Three of Clubs\n",
      " Four of Clubs\n",
      " Five of Clubs\n",
      " Six of Clubs\n",
      " Seven of Clubs\n",
      " Eight of Clubs\n",
      " Nine of Clubs\n",
      " Ten of Clubs\n",
      " Jack of Clubs\n",
      " Queen of Clubs\n",
      " King of Clubs\n",
      " Ace of Clubs\n"
     ]
    }
   ],
   "source": [
    "test_deck = Deck()\n",
    "print(test_deck)"
   ]
  },
  {
   "cell_type": "code",
   "execution_count": 5,
   "id": "e711cdad",
   "metadata": {},
   "outputs": [
    {
     "name": "stdout",
     "output_type": "stream",
     "text": [
      "The deck carries:\n",
      " Seven of Hearts\n",
      " Ten of Clubs\n",
      " Seven of Clubs\n",
      " Two of Spades\n",
      " Ace of Spades\n",
      " Ace of Diamonds\n",
      " Four of Diamonds\n",
      " Ten of Diamonds\n",
      " Ace of Clubs\n",
      " Eight of Spades\n",
      " Queen of Clubs\n",
      " Six of Diamonds\n",
      " Jack of Clubs\n",
      " Nine of Hearts\n",
      " Ace of Hearts\n",
      " Nine of Clubs\n",
      " Six of Clubs\n",
      " Four of Clubs\n",
      " Two of Clubs\n",
      " Seven of Spades\n",
      " King of Diamonds\n",
      " Queen of Hearts\n",
      " King of Spades\n",
      " Seven of Diamonds\n",
      " Four of Spades\n",
      " Two of Hearts\n",
      " King of Hearts\n",
      " Three of Clubs\n",
      " Nine of Spades\n",
      " Six of Spades\n",
      " Three of Hearts\n",
      " Ten of Hearts\n",
      " Three of Spades\n",
      " Four of Hearts\n",
      " Jack of Hearts\n",
      " Eight of Hearts\n",
      " Jack of Diamonds\n",
      " Eight of Clubs\n",
      " Five of Spades\n",
      " Jack of Spades\n",
      " King of Clubs\n",
      " Eight of Diamonds\n",
      " Five of Diamonds\n",
      " Five of Clubs\n",
      " Three of Diamonds\n",
      " Queen of Spades\n",
      " Five of Hearts\n",
      " Two of Diamonds\n",
      " Queen of Diamonds\n",
      " Nine of Diamonds\n",
      " Ten of Spades\n",
      " Six of Hearts\n"
     ]
    }
   ],
   "source": [
    "# AFTER SHUFFLING THE DECK:\n",
    "\n",
    "test_deck.shuffle()\n",
    "print(test_deck)"
   ]
  },
  {
   "cell_type": "markdown",
   "id": "965ba143",
   "metadata": {},
   "source": [
    "### `HAND CLASS`"
   ]
  },
  {
   "cell_type": "markdown",
   "id": "5141e02b",
   "metadata": {},
   "source": [
    "To holding the Card objects dealt from the Deck, the **`Hand class`** is used to calculate the value of those cards using the ***values*** dictionary in the **`Global Variable`**. It may also need to adjust for the value of Aces, when appropriate."
   ]
  },
  {
   "cell_type": "code",
   "execution_count": 6,
   "id": "99f3b52f",
   "metadata": {},
   "outputs": [],
   "source": [
    "class Hand():\n",
    "    \n",
    "    def __init__(self):\n",
    "        self.cards = []\n",
    "        self.value = 0\n",
    "        self.aces = 0    # An attribute to keep track of aces\n",
    "        \n",
    "    def add_card(self,card):\n",
    "        # card passed in\n",
    "        # from Deck.deal() --> single card(suit,rank)\n",
    "        self.cards.append(card)\n",
    "        self.value += values[card.rank]\n",
    "        \n",
    "        # Track for Aces\n",
    "        if card.rank == 'Ace':\n",
    "            self.aces += 1\n",
    "            \n",
    "    def adjust_ace(self):\n",
    "        # If total value > 21 and still have an Ace\n",
    "        # then change my Ace to be 1 instead of 11\n",
    "        while self.value > 21 and self.aces:\n",
    "            self.value -= 10\n",
    "            self.aces -= 1 "
   ]
  },
  {
   "cell_type": "markdown",
   "id": "f4d06269",
   "metadata": {},
   "source": [
    "**Check** for **`add_card()`** :"
   ]
  },
  {
   "cell_type": "code",
   "execution_count": 7,
   "id": "5e006f50",
   "metadata": {},
   "outputs": [
    {
     "name": "stdout",
     "output_type": "stream",
     "text": [
      "King of Clubs\n",
      "10\n"
     ]
    }
   ],
   "source": [
    "test_deck = Deck()\n",
    "test_deck.shuffle()\n",
    "\n",
    "# PLAYER\n",
    "test_player = Hand()\n",
    "\n",
    "# Deal 2 card from the Deck Card(suit,rank)\n",
    "print(test_deck.deal())\n",
    "test_player.add_card(test_deck.deal())\n",
    "print(test_player.value)"
   ]
  },
  {
   "cell_type": "markdown",
   "id": "4e118568",
   "metadata": {},
   "source": [
    "### `CHIPS CLASS`"
   ]
  },
  {
   "cell_type": "markdown",
   "id": "34e79633",
   "metadata": {},
   "source": [
    "In addition to decks of cards and hands, we need to keep track of a Player's starting chips, bets, and ongoing winnings. This could be done using *global variables*, but here I create a **`Chips class`** to get my hands dirty with **Object Oriented Programming**."
   ]
  },
  {
   "cell_type": "code",
   "execution_count": 8,
   "id": "77822db8",
   "metadata": {},
   "outputs": [],
   "source": [
    "class Chips:\n",
    "    \n",
    "    def __init__(self, total=100):\n",
    "        self.total = total  \n",
    "        self.bet = 0\n",
    "        \n",
    "    def win_bet(self):\n",
    "        self.total += self.bet\n",
    "    \n",
    "    def lose_bet(self):\n",
    "        self.total -= self.bet"
   ]
  },
  {
   "cell_type": "markdown",
   "id": "6916fa14",
   "metadata": {},
   "source": [
    "### `TAKE_BET() FUNCTION`"
   ]
  },
  {
   "cell_type": "markdown",
   "id": "c966e356",
   "metadata": {},
   "source": [
    "To check that a Player's bet can be covered by their available chips. As it is asking the user for an integer value, here we can use `try`/`except`. "
   ]
  },
  {
   "cell_type": "code",
   "execution_count": 9,
   "id": "239b548d",
   "metadata": {},
   "outputs": [],
   "source": [
    "def take_bet(chips):\n",
    "    \n",
    "    while True:\n",
    "        try:\n",
    "            chips.bet = int(input(\"How many chips would you like to bet? \"))\n",
    "        except:\n",
    "            print(\"Sorry! a bet must be an Integer.\")\n",
    "        else:\n",
    "            if chips.bet > chips.total:\n",
    "                print(f'Sorry! you have only {chips.total} chips to bet.')\n",
    "            else:\n",
    "                break"
   ]
  },
  {
   "cell_type": "markdown",
   "id": "64035db3",
   "metadata": {},
   "source": [
    "### `HIT() FUNCTION`"
   ]
  },
  {
   "cell_type": "markdown",
   "id": "46d5d7cc",
   "metadata": {},
   "source": [
    "**Either player can take hits until they bust**. This function will be called during gameplay anytime a Player requests a hit or a Dealer's hand is less than 17. </br>\n",
    "It should take in Deck and Hand objects as arguments, and deal one card off the deck and add it to the Hand. Also check for aces in the event that a player's hand exceeds 21."
   ]
  },
  {
   "cell_type": "code",
   "execution_count": 10,
   "id": "4d528b2b",
   "metadata": {},
   "outputs": [],
   "source": [
    "def hit(deck,hand):\n",
    "    single_card = deck.deal()\n",
    "    hand.add_card(single_card)\n",
    "    hand.adjust_ace()"
   ]
  },
  {
   "cell_type": "markdown",
   "id": "0ef46951",
   "metadata": {},
   "source": [
    "### `HIT_OR_STAND() FUNCTION`"
   ]
  },
  {
   "cell_type": "markdown",
   "id": "5fe3bebd",
   "metadata": {},
   "source": [
    "This function **prompting the Player to Hit or Stand**. It accept the deck and the player's hand as arguments, and assign playing as a global variable.</br>\n",
    "If the Player Hits, the above `hit()` function will be implemented. If the Player Stands, playing variable should be false to control the behavior of a `while` loop later on in the code."
   ]
  },
  {
   "cell_type": "code",
   "execution_count": 11,
   "id": "57924928",
   "metadata": {},
   "outputs": [],
   "source": [
    "def hit_or_stand(deck,hand):\n",
    "    global playing     # To control an upcoming while loop\n",
    "    \n",
    "    while True:\n",
    "        x = input(\"Would you like to Hit or Stand? Enter h/s: \")\n",
    "        \n",
    "        if x[0].lower() == 'h':\n",
    "            hit(deck,hand)\n",
    "        elif x[0].lower() == 's':\n",
    "            print(\"Player Stands, Dealer's turn\")\n",
    "            playing = False\n",
    "        else:\n",
    "            print(\"Sorry! I didn't understand, please enter 'h' or 's' only.\")\n",
    "            continue\n",
    "        break"
   ]
  },
  {
   "cell_type": "markdown",
   "id": "2f2a847b",
   "metadata": {},
   "source": [
    "### `SHOW_CARDS() FUNCTION`"
   ]
  },
  {
   "cell_type": "markdown",
   "id": "668dec18",
   "metadata": {},
   "source": [
    "Here there are two functions, 1st function `show_some()` is When the game starts, and after each time Player takes a card, the dealer's first card is hidden and all of Player's cards are visible.</br> \n",
    "And at the end 2nd function `show_all()` is to show all hand's cards are shown.</br>\n",
    "These functions are to print both **Player's** and **Dealer's** cards and each hand's **total value**."
   ]
  },
  {
   "cell_type": "code",
   "execution_count": 12,
   "id": "b7ab7e9a",
   "metadata": {},
   "outputs": [],
   "source": [
    "def show_some(player,dealer):\n",
    "    \n",
    "    # Show only ONE card of Dealer's hand\n",
    "    print(\"\\nDEALER'S HAND: \")\n",
    "    print(\"Hidden Card!\")\n",
    "    print(dealer.cards[1])\n",
    "    \n",
    "    # Show all (2 cards) of Player's hand\n",
    "    print(\"\\nPLAYER'S HAND: \", *player.cards, sep='\\n')\n",
    "    \n",
    "def show_all(player,dealer):\n",
    "    \n",
    "    # Show all Dealer's cards\n",
    "    print(\"\\nDEALER'S HAND: \", *dealer.cards, sep='\\n')\n",
    "    # Display value\n",
    "    print(f\"Value of Dealer's Hand is: {dealer.value}\")\n",
    "    \n",
    "    # Show all Player's cards\n",
    "    print(\"\\nPLAYER'S HAND: \", *player.cards, sep='\\n') \n",
    "    # Display value\n",
    "    print(f\"Value of Player's Hand is: {player.value}\")"
   ]
  },
  {
   "cell_type": "markdown",
   "id": "9f106c4c",
   "metadata": {},
   "source": [
    "Here asterisk **`*`** symbol is used to iterate through loop and print every item in the collection, works same as:\n",
    "        \n",
    "        print(\"\\n Player's Hand: \")\n",
    "        for card in player.cards:\n",
    "            print(cards)\n",
    "for **`*player.cards`**.\n",
    "\n",
    "And the **`sep='\\n '`** argument is to print each item on a separate line."
   ]
  },
  {
   "cell_type": "markdown",
   "id": "404b9784",
   "metadata": {},
   "source": [
    "### `PLAYER_BUSTS()` & `PLAYER_WINS() FUNCTION`"
   ]
  },
  {
   "cell_type": "markdown",
   "id": "f6264b30",
   "metadata": {},
   "source": [
    "These two functions are to handle each of the game situations, where it's going to an **end** by passing player's hand, dealer's hand and chips as needed."
   ]
  },
  {
   "cell_type": "code",
   "execution_count": 13,
   "id": "eb969905",
   "metadata": {},
   "outputs": [],
   "source": [
    "def player_busts(player,dealer,chips):\n",
    "    print(\"Player BUSTS!\")\n",
    "    chips.lose_bet()\n",
    "    \n",
    "def player_wins(player,dealer,chips):\n",
    "    print(\"Player WINS!\")\n",
    "    chips.win_bet()\n",
    "    \n",
    "def dealer_busts(player,dealer,chips):\n",
    "    print(\"Player WINS, Dealer BUSTED!\")\n",
    "    chips.win_bet()\n",
    "    \n",
    "def dealer_wins(player,dealer,chips):\n",
    "    print(\"Dealer WINS!\")\n",
    "    chips.lose_bet()\n",
    "    \n",
    "def push(player,dealer):\n",
    "    print(\"A TIE between Dealer and Player! It's a PUSH.\")"
   ]
  },
  {
   "cell_type": "markdown",
   "id": "e2f48b6b",
   "metadata": {},
   "source": [
    "### `THE ENDGAME`"
   ]
  },
  {
   "cell_type": "code",
   "execution_count": 14,
   "id": "3a4dc8a7",
   "metadata": {},
   "outputs": [
    {
     "name": "stdout",
     "output_type": "stream",
     "text": [
      "WELCOME TO BLACKJACK!\n",
      "How many chips would you like to bet? 200\n",
      "Sorry! you have only 100 chips to bet.\n",
      "How many chips would you like to bet? 50\n",
      "\n",
      "DEALER'S HAND: \n",
      "Hidden Card!\n",
      "Four of Spades\n",
      "\n",
      "PLAYER'S HAND: \n",
      "Jack of Clubs\n",
      "Seven of Spades\n",
      "Would you like to Hit or Stand? Enter h/s: s\n",
      "Player Stands, Dealer's turn\n",
      "\n",
      "DEALER'S HAND: \n",
      "Hidden Card!\n",
      "Four of Spades\n",
      "\n",
      "PLAYER'S HAND: \n",
      "Jack of Clubs\n",
      "Seven of Spades\n",
      "\n",
      "DEALER'S HAND: \n",
      "Two of Clubs\n",
      "Four of Spades\n",
      "Seven of Diamonds\n",
      "Jack of Spades\n",
      "Value of Dealer's Hand is: 23\n",
      "\n",
      "PLAYER'S HAND: \n",
      "Jack of Clubs\n",
      "Seven of Spades\n",
      "Value of Player's Hand is: 17\n",
      "Player WINS, Dealer BUSTED!\n",
      "\n",
      " Player's winning stand at 150\n",
      "Would you like to play another hand? y/n: y\n",
      "WELCOME TO BLACKJACK!\n",
      "How many chips would you like to bet? 100\n",
      "\n",
      "DEALER'S HAND: \n",
      "Hidden Card!\n",
      "Ten of Diamonds\n",
      "\n",
      "PLAYER'S HAND: \n",
      "Ace of Diamonds\n",
      "Ten of Spades\n",
      "Would you like to Hit or Stand? Enter h/s: h\n",
      "\n",
      "DEALER'S HAND: \n",
      "Hidden Card!\n",
      "Ten of Diamonds\n",
      "\n",
      "PLAYER'S HAND: \n",
      "Ace of Diamonds\n",
      "Ten of Spades\n",
      "Nine of Spades\n",
      "Would you like to Hit or Stand? Enter h/s: s\n",
      "Player Stands, Dealer's turn\n",
      "\n",
      "DEALER'S HAND: \n",
      "Hidden Card!\n",
      "Ten of Diamonds\n",
      "\n",
      "PLAYER'S HAND: \n",
      "Ace of Diamonds\n",
      "Ten of Spades\n",
      "Nine of Spades\n",
      "\n",
      "DEALER'S HAND: \n",
      "Nine of Hearts\n",
      "Ten of Diamonds\n",
      "Value of Dealer's Hand is: 19\n",
      "\n",
      "PLAYER'S HAND: \n",
      "Ace of Diamonds\n",
      "Ten of Spades\n",
      "Nine of Spades\n",
      "Value of Player's Hand is: 20\n",
      "Player WINS!\n",
      "\n",
      " Player's winning stand at 200\n",
      "Would you like to play another hand? y/n: n\n",
      "Thank you for playing!\n"
     ]
    }
   ],
   "source": [
    "while True:\n",
    "    \n",
    "    print(\"WELCOME TO BLACKJACK!\")\n",
    "    \n",
    "    # Create and shuffle the deck,dealing two cards to each player.\n",
    "    deck = Deck()\n",
    "    deck.shuffle()\n",
    "    \n",
    "    player_hand = Hand()\n",
    "    player_hand.add_card(deck.deal())\n",
    "    player_hand.add_card(deck.deal())\n",
    "    \n",
    "    dealer_hand = Hand()\n",
    "    dealer_hand.add_card(deck.deal())\n",
    "    dealer_hand.add_card(deck.deal())\n",
    "    \n",
    "    # Setting up the Player's chips\n",
    "    player_chips = Chips()\n",
    "    \n",
    "    # Prompting the Player for their bet\n",
    "    take_bet(player_chips)\n",
    "    \n",
    "    # Show cards (keeping 1 Dealer's card hidden)\n",
    "    show_some(player_hand,dealer_hand)\n",
    "    \n",
    "    while playing:    # Global variable from hit_or_stand() function\n",
    "        # Prompting the Player to Hit or Stand\n",
    "        hit_or_stand(deck,player_hand)\n",
    "        \n",
    "        # Show cards (keeping 1 Dealer's card hidden)\n",
    "        show_some(player_hand,dealer_hand)\n",
    "        \n",
    "        # If Player's hand exceed 21\n",
    "        if player_hand.value > 21:\n",
    "            player_busts(player_hand,dealer_hand,player_chips)\n",
    "            break\n",
    "            \n",
    "    # If Player hasn't busted\n",
    "    if player_hand.value <= 21:\n",
    "        while dealer_hand.value < 17:\n",
    "            hit(deck,dealer_hand)\n",
    "            \n",
    "        # Show all cards\n",
    "        show_all(player_hand,dealer_hand)\n",
    "        \n",
    "        # Different winning scenarios\n",
    "        if dealer_hand.value > 21:\n",
    "            dealer_busts(player_hand,dealer_hand,player_chips) \n",
    "        elif dealer_hand.value > player_hand.value:\n",
    "            dealer_wins(player_hand,dealer_hand,player_chips) \n",
    "        elif dealer_hand.value < player_hand.value:\n",
    "            player_wins(player_hand,dealer_hand,player_chips)\n",
    "        else:\n",
    "            push(player_hand,dealer_hand)\n",
    "            \n",
    "        # Total Chips the Player have\n",
    "        print(f\"\\n Player's winning stand at {player_chips.total}\")\n",
    "        \n",
    "        # For playing again\n",
    "        new_game = input(\"Would you like to play another hand? y/n: \")\n",
    "        \n",
    "        if new_game[0].lower() == 'y':\n",
    "            playing = True\n",
    "            continue\n",
    "        elif new_game[0].lower() == 'n':\n",
    "            print(\"Thank you for playing!\")\n",
    "        else:\n",
    "            print(\"Sorry! I didn't understand! Enter 'y' or 'n': \")\n",
    "        break"
   ]
  }
 ],
 "metadata": {
  "kernelspec": {
   "display_name": "Python 3 (ipykernel)",
   "language": "python",
   "name": "python3"
  },
  "language_info": {
   "codemirror_mode": {
    "name": "ipython",
    "version": 3
   },
   "file_extension": ".py",
   "mimetype": "text/x-python",
   "name": "python",
   "nbconvert_exporter": "python",
   "pygments_lexer": "ipython3",
   "version": "3.10.9"
  }
 },
 "nbformat": 4,
 "nbformat_minor": 5
}
